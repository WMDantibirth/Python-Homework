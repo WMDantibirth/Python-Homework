{
 "cells": [
  {
   "cell_type": "markdown",
   "metadata": {},
   "source": [
    "# 华东师范大学计算机科学技术系作业\n",
    "\n",
    " | 华东师范大学计算机科学技术系作业 | |\n",
    ":- | :- | :- \n",
    " 课程名称：编程导论Python | 年级：2018级| 作业成绩：\n",
    " 指导教师：兰曼 | 姓名：黎明  |  提交作业日期：2018年10月31日  \n",
    " 专业：计算机系 | 学号：10185102123  |  作业编号： 4\n",
    " -----------------------------"
   ]
  },
  {
   "cell_type": "markdown",
   "metadata": {},
   "source": [
    "一、 第1章介绍了合并两个有序列表，使得合并后的列表仍然有序的问题，并写出了解决该问题的算法，但是没有给出具体的python代码。\n",
    "<br/>\n",
    "    现在将上述问题用函数merge(L1,L2)来实现，该函数的功能为：输入参数是两个从小到大排好序的整数列表L1和L2，返回合成后的从小到大排好序的大列表X。例如，merge([1,4,5],[2,7])会返回[1,2,4,5,7]；merge([],[2,3,4])会返回[2,3,4]。请按下列要求用python实现该函数。\n",
    "<br/>\n",
    "    要求：\n",
    "<br/>\n",
    "    （1）程序中比较两列表元素大小的次数不能超过len(L1)+len(L2)。\n",
    "<br/>\n",
    "    （2）只能用列表append()和len()函数。\n",
    "<br/>\n",
    "（20分）"
   ]
  },
  {
   "cell_type": "code",
   "execution_count": 4,
   "metadata": {},
   "outputs": [
    {
     "name": "stdout",
     "output_type": "stream",
     "text": [
      "[1, 2, 4, 5, 7]\n",
      "[2, 3, 4]\n"
     ]
    }
   ],
   "source": [
    "def merge(L1,L2):\n",
    "    l1,l2 = len(L1),len(L2)\n",
    "    r = []\n",
    "    if l1 == 0:\n",
    "        return L2\n",
    "    if l2 == 0:\n",
    "        return L1\n",
    "    i = j = 0\n",
    "    while i < l1 or j < l2:\n",
    "        if j == l2 or L1[i] <= L2[j]:\n",
    "            r.append(L1[i])\n",
    "            i += 1\n",
    "        if i == l1 or L1[i] > L2[j]:\n",
    "            r.append(L2[j])\n",
    "            j += 1\n",
    "    return r\n",
    "\n",
    "print(merge([1,4,5],[2,7]))\n",
    "print(merge([],[2,3,4]))"
   ]
  },
  {
   "cell_type": "markdown",
   "metadata": {},
   "source": [
    "二、\t请改写本章中<程序：整数的十-二进制转换>python程序，完成十进制到二进制的包括小数的转换。输入是一个带小数点的十进制数，输出是一个带有小数点的二进制数，假设精确度是8位。\n",
    "<br/>\n",
    "（20分）"
   ]
  },
  {
   "cell_type": "code",
   "execution_count": 7,
   "metadata": {},
   "outputs": [
    {
     "name": "stdout",
     "output_type": "stream",
     "text": [
      "-893.810\n",
      "-1101111101.11001111\n"
     ]
    }
   ],
   "source": [
    "def ito2(x):\n",
    "    r = []\n",
    "    while x:\n",
    "        r.append(x % 2)\n",
    "        x //= 2\n",
    "    r.reverse()\n",
    "    if r == []:\n",
    "        return [0]\n",
    "    return r\n",
    "\n",
    "def fto2(x):\n",
    "    r = []\n",
    "    n = 0.0\n",
    "    for i in range(1,9):\n",
    "        b = 2 ** (-i)\n",
    "        if n + b <= x:\n",
    "            r.append(1)\n",
    "            n += b\n",
    "        else:\n",
    "            r.append(0)\n",
    "    return r    \n",
    "x = float(input())\n",
    "x0 = abs(int(x))\n",
    "x1 = ito2(x0)\n",
    "x2 = fto2(abs(x)-x0)\n",
    "if x < 0:\n",
    "    print(\"-\",end = '')\n",
    "for i in x1:\n",
    "    print(i,end = '')\n",
    "print('.',end = '')\n",
    "for i in x2:\n",
    "    print(i,end = '')\n",
    "print(\"\")"
   ]
  },
  {
   "cell_type": "markdown",
   "metadata": {},
   "source": [
    "三、黑色星期五（13号是一个星期五）。 13号在星期五比在其他日子少吗 ?为了回答这个问题 ,写一个程序，要求计算每个月的13号分别为周一到周日的次数。给出N年的一个周期，要求计算1900年1月1日至1900+N-1年12月31日中13号落在周一到周日的次数，N为正整数且不大于400。\n",
    "<br/>\n",
    "输入为：一个数字N。\n",
    "<br/>\n",
    "输出为：7个整数，分别表示13号在周一到周日的次数。\n",
    "<br/>\n",
    "提示：\n",
    "<br/>\n",
    "（1）1900年1月1日是星期一。\n",
    "<br/>\n",
    "（2）4、6、9和11月有30天，其他月份除了2月都有31天。闰年2月有29天，平年2月有28天。\n",
    "<br/>\n",
    "（3）年份可以被4整除的为闰年(1992=4*498 所以 1992年是闰年,但是1990年不是闰年)\n",
    "<br/>\n",
    "（4）以上规则不适合于世纪年。可以被400整除的世纪年为闰年,否则为平年。所以,1700,1800,1900和2100年是平,而2000是闰年。\n",
    "<br/>\n",
    "（20分）"
   ]
  },
  {
   "cell_type": "code",
   "execution_count": 16,
   "metadata": {},
   "outputs": [
    {
     "name": "stdout",
     "output_type": "stream",
     "text": [
      "21\n",
      "36\t36\t36\t36\t36\t38\t34\n"
     ]
    }
   ],
   "source": [
    "def isLeap(y):\n",
    "    if y % 100 == 0:\n",
    "        if y % 400 == 0:\n",
    "            return 1\n",
    "        else:\n",
    "            return 0\n",
    "    if y % 4 == 0:\n",
    "        return 1\n",
    "    return 0\n",
    "\n",
    "month = [31,31,28,31,30,31,30,31,31,30,31,30,31]\n",
    "d = 3\n",
    "n = int(input())\n",
    "t = [0 for i in range(7)]\n",
    "for y in range(1900,1900+n):\n",
    "    if isLeap(y):\n",
    "        month[2] = 29\n",
    "    else:\n",
    "        month[2] = 28\n",
    "    for i in range(1,13):\n",
    "        d = (month[i - 1] + d) % 7\n",
    "        t[d] += 1\n",
    "for i in range(1,7):\n",
    "    print(t[i],end = '\\t')\n",
    "print(t[0])"
   ]
  },
  {
   "cell_type": "markdown",
   "metadata": {},
   "source": [
    "四、挤牛奶，三个农民每天清晨5点起床，然后去牛棚给3头牛挤奶。第一个农民在300秒(从5点开始计时)给他的牛挤奶，一直挤到1000秒。第二个农民在700秒开始，在1200秒结束。第三个农民在1500秒开始，2100秒结束。期间至少有一个农民在挤奶的最长连续时为900秒(从300秒到1200秒)，而无人挤奶的最长连续时间 (从挤奶开始一直到挤奶结束)为300秒(从1200秒到1500秒)。\n",
    "<br/>\n",
    "要求编一个Python程序，输入N个农民 (1 <= N <= 5000)挤N头牛的工作时间列表，计算以下两个问题（均以s(秒)为单位）： \n",
    "<br/>\n",
    "（1）最长至少有一人在挤奶的时间段。\n",
    "<br/>\n",
    "（2）最长的无人挤奶时间段（从有人挤奶开始算起）。\n",
    "<br/>\n",
    "例如，输入为：[[300,1000],[700,1200],[1500,2100]]，则该输入的每一个元素为一个农民的挤奶时间段。输出：900 300。\n",
    "<br/>\n",
    "（20分）"
   ]
  },
  {
   "cell_type": "code",
   "execution_count": 17,
   "metadata": {},
   "outputs": [
    {
     "name": "stdout",
     "output_type": "stream",
     "text": [
      "[[300,1000],[700,1200],[1500,2100]]\n",
      "900\t300\n"
     ]
    }
   ],
   "source": [
    "a = eval(input())\n",
    "a.sort(key = lambda x:x[0])\n",
    "t1 = t2 = head = tail = 0\n",
    "for s in a:\n",
    "    if s[0] > tail:\n",
    "        t2 = max(t2,s[0] - tail)\n",
    "        head = s[0]\n",
    "        tail = s[1]\n",
    "        t1 = max(t1,s[1]-s[0])\n",
    "    elif s[1] > tail:\n",
    "        tail = s[1]\n",
    "        t1 = max(t1,tail - head)\n",
    "print(\"%d\\t%d\" % (t1,t2))"
   ]
  },
  {
   "cell_type": "markdown",
   "metadata": {},
   "source": [
    "五、编写一个 Python程序，求回文平方数。给定一个进制B(2<=B<=10,由十进制表示)，输出所有满足以下条件的十进制数 N，条件：\n",
    "<br/>\n",
    "（1）1<=N<=300。\n",
    "<br/>\n",
    "（2）N的平方用B进制表示时是回文数，即回文平方数。\n",
    "<br/>\n",
    "例如，输入为：K=2。\n",
    "<br/>\n",
    "输出为：\n",
    "<br/>\n",
    "1 $\\quad$ 1 $\\quad$ 1\n",
    "<br/>\n",
    "3 $\\quad$ 9 $\\quad$ 1001\n",
    "<br/>\n",
    "输出中，每一行的第一个数为回文平方（十进制表示），第二列为该数的平方（十进制），第三列为平方的K进制表示。\n",
    "<br/>\n",
    "（20分）"
   ]
  },
  {
   "cell_type": "code",
   "execution_count": 8,
   "metadata": {},
   "outputs": [
    {
     "name": "stdout",
     "output_type": "stream",
     "text": [
      "3\n",
      "1\t1\t1\n",
      "2\t4\t11\n",
      "4\t16\t121\n",
      "10\t100\t10201\n",
      "11\t121\t11111\n",
      "20\t400\t112211\n",
      "22\t484\t122221\n",
      "28\t784\t1002001\n",
      "34\t1156\t1120211\n",
      "56\t3136\t11022011\n",
      "82\t6724\t100020001\n",
      "89\t7921\t101212101\n",
      "113\t12769\t122111221\n",
      "154\t23716\t1012112101\n",
      "164\t26896\t1100220011\n",
      "244\t59536\t10000200001\n",
      "262\t68644\t10111011101\n"
     ]
    }
   ],
   "source": [
    "def dtox(x,y):\n",
    "    r = []\n",
    "    while y:\n",
    "        r.append(y % x)\n",
    "        y //= x\n",
    "    r.reverse()\n",
    "    return r\n",
    "\n",
    "def isPalindrome(x):\n",
    "    i = 0\n",
    "    j = len(x) - 1\n",
    "    while i < j:\n",
    "        if x[i] != x[j]:\n",
    "            return 0\n",
    "        i += 1\n",
    "        j -= 1\n",
    "    return 1\n",
    "\n",
    "b = int(input())\n",
    "for n in range(1,301):\n",
    "    s = n * n\n",
    "    r = dtox(b,s)\n",
    "    if isPalindrome(r):\n",
    "        print(\"%d\\t%d\" % (n,s),end = '\\t')\n",
    "        for i in r:\n",
    "            print(i,end = '')\n",
    "        print(\"\")"
   ]
  }
 ],
 "metadata": {
  "kernelspec": {
   "display_name": "Python 3",
   "language": "python",
   "name": "python3"
  },
  "language_info": {
   "codemirror_mode": {
    "name": "ipython",
    "version": 3
   },
   "file_extension": ".py",
   "mimetype": "text/x-python",
   "name": "python",
   "nbconvert_exporter": "python",
   "pygments_lexer": "ipython3",
   "version": "3.6.5"
  }
 },
 "nbformat": 4,
 "nbformat_minor": 2
}
