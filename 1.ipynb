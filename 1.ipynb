{
 "cells": [
  {
   "cell_type": "markdown",
   "metadata": {},
   "source": [
    "### 华东师范大学计算机科学技术系作业\n",
    "\n",
    " | 华东师范大学计算机科学技术系作业 | |\n",
    ":- | :- | :- \n",
    " 课程名称：编程导论Python | 年级：2018级| 作业成绩：\n",
    " 指导教师：LanM | 姓名：yts1999的粉丝  |  提交作业日期：2018年9月29日  \n",
    " 专业：计算机系 | 学号：17471919  |  作业编号： 1 \n",
    " -----------------------------"
   ]
  },
  {
   "cell_type": "raw",
   "metadata": {},
   "source": [
    "一、(1)6 (2)0 (3)8 (4)16 (5)2.0 (6)2 (7)0.5714285714285714 (8)0"
   ]
  },
  {
   "cell_type": "raw",
   "metadata": {},
   "source": [
    "二、(1)False (2)True (3)True (4)False (5)False (6)True"
   ]
  },
  {
   "cell_type": "raw",
   "metadata": {},
   "source": [
    "三、"
   ]
  },
  {
   "cell_type": "code",
   "execution_count": 12,
   "metadata": {},
   "outputs": [
    {
     "name": "stdout",
     "output_type": "stream",
     "text": [
      "x = -1.00000,y = 4.00000\n"
     ]
    }
   ],
   "source": [
    "a0 = 1;b0 = 1;c0 = 3\n",
    "a1 = 0;b1 = 1;c1 = 4\n",
    "if a0 == 0 and b0 == 0 and c0 != 0 or a1 == 0 and b1 == 0 and c1 != 0:\n",
    "    print(\"No Solution!\")\n",
    "elif a0 == 0 and b0 == 0 and c0 == 0 or a1 == 0 and b1 == 0 and c1 == 0:\n",
    "    print(\"Infinite Solution!\")\n",
    "elif a0 == 0 and a1 == 0:\n",
    "    if c0 / b0 == c1 / b1:\n",
    "        print(\"Infinite Solution!\")\n",
    "    else:\n",
    "        print(\"No Solution!\")\n",
    "elif a0 == 0:\n",
    "    y = c0 / b0\n",
    "    x = (c1 - y * b1) / a1\n",
    "    print(\"x = %.5f,y = %.5f\" % (x,y))    \n",
    "elif a1 == 0:\n",
    "    y = c1 / b1\n",
    "    x = (c0 - y * b0 ) / a0\n",
    "    print(\"x = %.5f,y = %.5f\" % (x,y))\n",
    "else:\n",
    "    a2 = a0 * a1;b2 = b0 * a1;c2 = c0 * a1\n",
    "    a3 = a1 * a0;b3 = b1 * a0;c3 = c1 * a0\n",
    "    a = a2 - a3;b = b2 - b3;c = c2 - c3\n",
    "    if b == 0 and c == 0:\n",
    "        print(\"Infinite Solution!\")\n",
    "    elif b == 0:print(\"No Solution!\")\n",
    "    else:\n",
    "        y = c / b\n",
    "        x = (c0 - b0 * y) / a0\n",
    "        print(\"x = %.5f,y = %.5f\" % (x,y))"
   ]
  },
  {
   "cell_type": "raw",
   "metadata": {},
   "source": [
    "四、"
   ]
  },
  {
   "cell_type": "code",
   "execution_count": 1,
   "metadata": {},
   "outputs": [
    {
     "name": "stdout",
     "output_type": "stream",
     "text": [
      "x = -1.00000,y = 4.00000,z = 6.00000\n"
     ]
    }
   ],
   "source": [
    "import numpy as np\n",
    "import numpy.linalg as npl\n",
    "\n",
    "a11,a12,a13,b1=2,3,-1,4\n",
    "a21,a22,a23,b2=3,-2,3,7\n",
    "a31,a32,a33,b3=1,3,-2,-1\n",
    "\n",
    "a = np.matrix([[a11,a12,a13],[a21,a22,a23],[a31,a32,a33]])\n",
    "ab = np.matrix([[a11,a12,a13,b1],[a21,a22,a23,b2],[a31,a32,a33,b3]])\n",
    "if npl.det(a):\n",
    "    x = npl.solve(a,[b1,b2,b3])\n",
    "    print(\"x = %.5f,y = %.5f,z = %.5f\" % (x[0],x[1],x[2]))\n",
    "elif npl.matrix_rank(a) < npl.matrix_rank(ab):\n",
    "    print(\"No Solution!\")\n",
    "else:\n",
    "    print(\"Inifinite Solution!\")\n"
   ]
  },
  {
   "cell_type": "raw",
   "metadata": {},
   "source": [
    "五、"
   ]
  },
  {
   "cell_type": "code",
   "execution_count": 32,
   "metadata": {},
   "outputs": [
    {
     "name": "stdout",
     "output_type": "stream",
     "text": [
      "1\n",
      "5\n",
      "0\n",
      "3\n",
      "5\n",
      "3\n",
      "1\n",
      "0\n"
     ]
    }
   ],
   "source": [
    "a = [int(input()) for i in range(4)]\n",
    "a.sort()\n",
    "for i in range(3,-1,-1):\n",
    "    print(a[i])"
   ]
  },
  {
   "cell_type": "raw",
   "metadata": {},
   "source": [
    "六、"
   ]
  },
  {
   "cell_type": "code",
   "execution_count": 28,
   "metadata": {},
   "outputs": [
    {
     "name": "stdout",
     "output_type": "stream",
     "text": [
      "3\n",
      "[1, 6, 12, 8]\n"
     ]
    }
   ],
   "source": [
    "n = int(input())\n",
    "if not n:\n",
    "    print([1])\n",
    "else: \n",
    "    c = [[0 for i in range(n+1)] for i in range(2)]\n",
    "    c[0][1] = 1\n",
    "    c[1][0] = 1\n",
    "    c[0][0] = 1\n",
    "    r = 1\n",
    "    for i in range(2,n+1):\n",
    "        for j in range(1,i+1):\n",
    "            c[r][j] = c[r ^ 1][j-1] + c[r ^ 1][j]    \n",
    "        r ^= 1\n",
    "    r ^= 1\n",
    "    ans = [c[r][i] * 2 ** i for i in range(n+1)]\n",
    "    print(ans)"
   ]
  },
  {
   "cell_type": "raw",
   "metadata": {},
   "source": [
    "七、"
   ]
  },
  {
   "cell_type": "code",
   "execution_count": null,
   "metadata": {},
   "outputs": [],
   "source": [
    "for i in range(100):\n",
    "    if i % 2:\n",
    "        print(i)"
   ]
  },
  {
   "cell_type": "raw",
   "metadata": {},
   "source": [
    "八、"
   ]
  },
  {
   "cell_type": "code",
   "execution_count": 38,
   "metadata": {},
   "outputs": [
    {
     "name": "stdout",
     "output_type": "stream",
     "text": [
      "False\n",
      "True\n"
     ]
    }
   ],
   "source": [
    "def f(a):\n",
    "    flag=False\n",
    "    for i in a:\n",
    "        if i < 0:\n",
    "            flag=True\n",
    "            break\n",
    "    return flag\n",
    "\n",
    "a = [1,3,4,5]\n",
    "b = [-1,3,5]\n",
    "print(f(a))\n",
    "print(f(b))\n"
   ]
  },
  {
   "cell_type": "code",
   "execution_count": 39,
   "metadata": {},
   "outputs": [
    {
     "name": "stdout",
     "output_type": "stream",
     "text": [
      "False\n",
      "True\n"
     ]
    }
   ],
   "source": [
    "def f(a):\n",
    "    for i in a:\n",
    "        if i < 0:\n",
    "            return True\n",
    "    return False\n",
    "\n",
    "a = [1,3,4,5]\n",
    "b = [-1,3,5]\n",
    "print(f(a))\n",
    "print(f(b))\n"
   ]
  },
  {
   "cell_type": "raw",
   "metadata": {},
   "source": [
    "九、"
   ]
  },
  {
   "cell_type": "code",
   "execution_count": null,
   "metadata": {},
   "outputs": [],
   "source": [
    "def doSomething():\n",
    "    pass\n",
    "\n",
    "i = 1\n",
    "while i < 100:\n",
    "    doSomething()\n",
    "    i += 2"
   ]
  },
  {
   "cell_type": "raw",
   "metadata": {},
   "source": [
    "十、"
   ]
  },
  {
   "cell_type": "code",
   "execution_count": 40,
   "metadata": {},
   "outputs": [
    {
     "name": "stdout",
     "output_type": "stream",
     "text": [
      "[1, 3, 6, 10, 15]\n"
     ]
    }
   ],
   "source": [
    "def f(a):\n",
    "    if len(a) == 0:\n",
    "        return a\n",
    "    b = []\n",
    "    b.append(a[0])\n",
    "    for i in range(1,len(a)):\n",
    "        b.append(b[i-1] + a[i])\n",
    "    return b\n",
    "\n",
    "L = [1,2,3,4,5]\n",
    "print(f(L))\n"
   ]
  },
  {
   "cell_type": "raw",
   "metadata": {},
   "source": [
    "十一、"
   ]
  },
  {
   "cell_type": "code",
   "execution_count": 42,
   "metadata": {},
   "outputs": [
    {
     "name": "stdout",
     "output_type": "stream",
     "text": [
      "★★★★★★★★★\n",
      "★我喜欢编程导论★\n",
      "★★★★★★★★★\n"
     ]
    }
   ],
   "source": [
    "print(\"★★★★★★★★★\\n★我喜欢编程导论★\\n★★★★★★★★★\")"
   ]
  },
  {
   "cell_type": "raw",
   "metadata": {},
   "source": [
    "十二、"
   ]
  },
  {
   "cell_type": "code",
   "execution_count": 43,
   "metadata": {},
   "outputs": [
    {
     "name": "stdout",
     "output_type": "stream",
     "text": [
      "         X\n",
      "        XXX\n",
      "       XXXXX\n",
      "      XXXXXXX\n",
      "     XXXXXXXXX\n",
      "    XXXXXXXXXXX\n",
      "   XXXXXXXXXXXXX\n",
      "  XXXXXXXXXXXXXXX\n",
      " XXXXXXXXXXXXXXXXX\n",
      "XXXXXXXXXXXXXXXXXXX\n"
     ]
    }
   ],
   "source": [
    "n = 10\n",
    "for i in range(n):\n",
    "    for j in range(n - i - 1):\n",
    "        print(\" \",end = '')\n",
    "    for j in range(2 * i + 1):\n",
    "        print(\"X\",end = '')\n",
    "    print(\"\")"
   ]
  },
  {
   "cell_type": "raw",
   "metadata": {},
   "source": [
    "十三、"
   ]
  },
  {
   "cell_type": "code",
   "execution_count": 44,
   "metadata": {},
   "outputs": [
    {
     "name": "stdout",
     "output_type": "stream",
     "text": [
      "[5, 4, 3, 2, 1]\n"
     ]
    }
   ],
   "source": [
    "def rev(a):\n",
    "    n = len(a)\n",
    "    for i in range(0,n//2):\n",
    "        tmp = a[i]\n",
    "        a[i] = a[n-i-1]\n",
    "        a[n-i-1] = tmp\n",
    "\n",
    "L = [1,2,3,4,5]\n",
    "rev(L)\n",
    "print(L)\n",
    "        "
   ]
  },
  {
   "cell_type": "code",
   "execution_count": 45,
   "metadata": {},
   "outputs": [
    {
     "name": "stdout",
     "output_type": "stream",
     "text": [
      "[5, 4, 3, 2, 1]\n"
     ]
    }
   ],
   "source": [
    "def rev(a):\n",
    "    i=0\n",
    "    j=len(a)-1\n",
    "    while i<j:\n",
    "        tmp = a[i]\n",
    "        a[i] = a[j]\n",
    "        a[j] = tmp\n",
    "        i += 1\n",
    "        j -= 1\n",
    "\n",
    "L = [1,2,3,4,5]\n",
    "rev(L)\n",
    "print(L)"
   ]
  },
  {
   "cell_type": "raw",
   "metadata": {},
   "source": [
    "十四、"
   ]
  },
  {
   "cell_type": "code",
   "execution_count": 46,
   "metadata": {},
   "outputs": [
    {
     "name": "stdout",
     "output_type": "stream",
     "text": [
      "eesama no mercy\n",
      "eesamanomercy\n"
     ]
    }
   ],
   "source": [
    "s = input()\n",
    "ans = \"\"\n",
    "for s0 in s.split(\" \"):\n",
    "    ans += s0\n",
    "print(ans)"
   ]
  },
  {
   "cell_type": "raw",
   "metadata": {},
   "source": [
    "十五、"
   ]
  },
  {
   "cell_type": "code",
   "execution_count": 47,
   "metadata": {},
   "outputs": [
    {
     "name": "stdout",
     "output_type": "stream",
     "text": [
      "3,1,2,4\n"
     ]
    }
   ],
   "source": [
    "def f(a):\n",
    "    n = len(a)\n",
    "    s = \"\"\n",
    "    for i in range(n):\n",
    "        s0 = str(a[i])\n",
    "        if s0.isdigit():\n",
    "            s += s0\n",
    "            if i != n-1:\n",
    "                s += \",\"\n",
    "    return s\n",
    "\n",
    "L = [3,1,\"兰曼最帅！\",2,4]\n",
    "print(f(L))\n"
   ]
  },
  {
   "cell_type": "raw",
   "metadata": {},
   "source": [
    "十六、"
   ]
  },
  {
   "cell_type": "code",
   "execution_count": 48,
   "metadata": {},
   "outputs": [
    {
     "name": "stdout",
     "output_type": "stream",
     "text": [
      "7.\n",
      "True\n"
     ]
    }
   ],
   "source": [
    "try:\n",
    "    float(input())\n",
    "except ValueError:\n",
    "    print(\"False\")\n",
    "else:\n",
    "    print(\"True\")\n",
    "    "
   ]
  },
  {
   "cell_type": "raw",
   "metadata": {},
   "source": [
    "十七、"
   ]
  },
  {
   "cell_type": "code",
   "execution_count": 49,
   "metadata": {},
   "outputs": [
    {
     "name": "stdout",
     "output_type": "stream",
     "text": [
      "pythonnohtyp\n",
      "True\n"
     ]
    }
   ],
   "source": [
    "def isPalindrome(s):\n",
    "    i = 0\n",
    "    j = len(s) - 1\n",
    "    while i < j:\n",
    "        if s[i] != s[j]:\n",
    "            return False\n",
    "        i += 1\n",
    "        j -= 1\n",
    "    return True\n",
    "\n",
    "s = input()\n",
    "print(isPalindrome(s))"
   ]
  }
 ],
 "metadata": {
  "kernelspec": {
   "display_name": "Python 3",
   "language": "python",
   "name": "python3"
  },
  "language_info": {
   "codemirror_mode": {
    "name": "ipython",
    "version": 3
   },
   "file_extension": ".py",
   "mimetype": "text/x-python",
   "name": "python",
   "nbconvert_exporter": "python",
   "pygments_lexer": "ipython3",
   "version": "3.6.5"
  }
 },
 "nbformat": 4,
 "nbformat_minor": 2
}
