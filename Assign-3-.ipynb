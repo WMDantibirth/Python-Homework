{
 "cells": [
  {
   "cell_type": "markdown",
   "metadata": {},
   "source": [
    "### 华东师范大学计算机科学技术系作业\n",
    "\n",
    " | 华东师范大学计算机科学技术系作业 | |\n",
    ":- | :- | :- \n",
    " 课程名称：编程导论Python | 年级：2018级| 作业成绩：\n",
    " 指导教师：兰曼 | 姓名：黎明  |  提交作业日期：2018年10月24日  \n",
    " 专业：计算机系 | 学号：10185102123  |  作业编号： 3\n",
    " -----------------------------"
   ]
  },
  {
   "cell_type": "markdown",
   "metadata": {},
   "source": [
    "一、 请用自定义函数编程实现 f(n),函数功能为：求 n 的阶乘。 利用函数 f(n), 编程实现对任意给定的3个整数 $x \\le y \\le z $, $ ( 1 < x \\le y \\le y \\le z < 100)$， 求$x!+y!+z!$。（20分）"
   ]
  },
  {
   "cell_type": "code",
   "execution_count": null,
   "metadata": {
    "collapsed": true
   },
   "outputs": [],
   "source": []
  },
  {
   "cell_type": "markdown",
   "metadata": {},
   "source": [
    "二、请用自定义函数编程实现factor(num,k)，函数功能为：求整数num中包含因子k的个数，如果没有该因子则返回0。例如12=2\\*2\\*3，则factors(12,2)=2，factors(12,3)=1，factors(12,4)=1，factors(12,5)=0。（20分）"
   ]
  },
  {
   "cell_type": "code",
   "execution_count": null,
   "metadata": {
    "collapsed": true
   },
   "outputs": [],
   "source": []
  },
  {
   "cell_type": "markdown",
   "metadata": {},
   "source": [
    "三、请用自定义函数编程实现pai(e)，函数功能为：根据以下公式求$\\pi$的值，直到某一项的值小于给定的精度e。\n",
    "    $$\\cfrac{\\pi}{2}=1+\\cfrac{1}{3}+\\cfrac{1}{3}*\\cfrac{2}{5}+\\cfrac{1}{3}*\\cfrac{2}{5}*\\cfrac{3}{7}+\\cfrac{1}{3}*\\cfrac{2}{5}*\\cfrac{3}{7}*\\cfrac{4}{9}+\\ldots\\ldots  $$\n",
    "   输入：精度e，例如0.0005                                         \n",
    "   输出：$\\pi$的值，上例为3.14058\n",
    "（20分）"
   ]
  },
  {
   "cell_type": "code",
   "execution_count": null,
   "metadata": {
    "collapsed": true
   },
   "outputs": [],
   "source": []
  },
  {
   "cell_type": "markdown",
   "metadata": {},
   "source": [
    "四、请用自定义函数编程实现fun(a,b)，函数功能为：将两个三位数的整数a，b合并成一个整数c，合并规则为c的十万位、千位和十位分别是a的百位、十位和个位，而c的万位、百位和个位分别是b的百位、十位和个位。例如：输入为 a=123，b=456，则输出为 c=142536（20分）"
   ]
  },
  {
   "cell_type": "code",
   "execution_count": null,
   "metadata": {
    "collapsed": true
   },
   "outputs": [],
   "source": []
  },
  {
   "cell_type": "markdown",
   "metadata": {},
   "source": [
    "五、请以多项式$4x^{20}+3x^{10}+5$和多项式$2x^8+x-1$为例，使用本章中子列表形式的数据结构（第三种），编写多项式乘法和除法的Python程序。（20分）"
   ]
  },
  {
   "cell_type": "code",
   "execution_count": null,
   "metadata": {
    "collapsed": true
   },
   "outputs": [],
   "source": []
  }
 ],
 "metadata": {
  "kernelspec": {
   "display_name": "Python 3",
   "language": "python",
   "name": "python3"
  },
  "language_info": {
   "codemirror_mode": {
    "name": "ipython",
    "version": 3
   },
   "file_extension": ".py",
   "mimetype": "text/x-python",
   "name": "python",
   "nbconvert_exporter": "python",
   "pygments_lexer": "ipython3",
   "version": "3.5.5"
  }
 },
 "nbformat": 4,
 "nbformat_minor": 2
}
