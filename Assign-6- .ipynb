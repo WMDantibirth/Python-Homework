{
 "cells": [
  {
   "cell_type": "markdown",
   "metadata": {},
   "source": [
    "# 华东师范大学计算机科学技术系作业\n",
    "\n",
    " | 华东师范大学计算机科学技术系作业 | |\n",
    ":- | :- | :- \n",
    " 课程名称：编程导论Python | 年级：2018级| 作业成绩：\n",
    " 指导教师：兰曼 | 姓名：黎明  |  提交作业日期：2018年11月14日  \n",
    " 专业：计算机系 | 学号：1018510XXXX  |  作业编号： 6\n",
    " -----------------------------"
   ]
  },
  {
   "cell_type": "markdown",
   "metadata": {},
   "source": [
    "一、 输入一个字符串 ，内容是一个带小数的实数，例如 \"123.45\"，输出是两个整数变量x和y，x是整数部分123，y是小数部分是小数部分45。你可以用split函数来完成。（10分）"
   ]
  },
  {
   "cell_type": "code",
   "execution_count": 1,
   "metadata": {},
   "outputs": [
    {
     "name": "stdout",
     "output_type": "stream",
     "text": [
      "123.45\n",
      "123 \t 45\n"
     ]
    }
   ],
   "source": [
    "s = input()\n",
    "p = s.split(\".\")\n",
    "x,y = int(p[0]),int(p[1])\n",
    "print(x,\"\\t\",y)"
   ]
  },
  {
   "cell_type": "markdown",
   "metadata": {},
   "source": [
    "二、\t字典符串练习 1。实现一个函数，该功能为：删除字符串中出现次数最少的字符，若多个字符出现次数一样，则都删除。输出删除这些单词后的字符串，字符串中其它字符保持原来的顺序。\n",
    "\n",
    "\n",
    "输入： 字符串只包含小写英文母 , 不考虑非法输入，的字符串 不考虑非法输入，的字符串 长度小于 等20个字节。 （如 abcdd）<br/>\n",
    "输出： 删除字符串中出现次数最少的字符后的字符串。 （如 dd）<br/>\n",
    "（10分）"
   ]
  },
  {
   "cell_type": "code",
   "execution_count": 23,
   "metadata": {},
   "outputs": [
    {
     "name": "stdout",
     "output_type": "stream",
     "text": [
      "[1, 2, 0]\n",
      "[2, 5]\n",
      "[3, 0]\n",
      "[1, 2, 0, 0]\n"
     ]
    }
   ],
   "source": []
  },
  {
   "cell_type": "markdown",
   "metadata": {},
   "source": [
    "三、字典符串练习 2。实现一个函数，该功能为：假设一篇文章已经存储于一个字符串 S中，统计 S中每个单词出现的次数 。（注意单词后面的标点符号问题）\n",
    "（10分）"
   ]
  },
  {
   "cell_type": "code",
   "execution_count": null,
   "metadata": {
    "collapsed": true
   },
   "outputs": [],
   "source": []
  },
  {
   "cell_type": "markdown",
   "metadata": {},
   "source": [
    "四、参数的传递问题练习。现有一个Sum函数，该函数可以求得输入的数字列表L中所有偶数的和，程序如 <程序：参数传递问题练习> 所示。请分析该程序，原列表L是否被修改？说明打印结果是什么？请尝试用多种方法修改程序，使得原列表L不会被修改。\n",
    "（15分）\n",
    "\n",
    "``` python\n",
    "# <程序:参数传递问题练习>\n",
    "def Sum(L):\n",
    "    mysum = 0\n",
    "    i = len(L) - 1\n",
    "    while i >= 0:\n",
    "        if not L[i]%2:\n",
    "            mysum += L.pop(i)\n",
    "        i -= 1\n",
    "    return mysum\n",
    "\n",
    "L = [2, 2, 3, 4, 5]\n",
    "mysum = Sum(L)\n",
    "print(L, mysum)\n",
    "```"
   ]
  },
  {
   "cell_type": "markdown",
   "metadata": {
    "collapsed": true
   },
   "source": [
    "原列表L被修改。函数Sum中的参数L与主函数中的L指向内存中同一片空间，故函数中的pop操作对原列表产生了影响。\n",
    "打印结果为[3, 5] 8。观察程序易得在Sum函数中所有偶数被从列表中删除，在删除偶数时对偶数求和，然后将求得的和返回。因为Sum函数内对列表的修改会影响原列表，故原列表L中的偶数也被删除，故输出[3, 5] 8。"
   ]
  },
  {
   "cell_type": "code",
   "execution_count": 19,
   "metadata": {},
   "outputs": [
    {
     "name": "stdout",
     "output_type": "stream",
     "text": [
      "[2, 2, 3, 4, 5] 8\n"
     ]
    }
   ],
   "source": [
    "#修改方法1\n",
    "def Sum(L):\n",
    "    mysum = 0\n",
    "    i = len(L) - 1\n",
    "    while i >= 0:\n",
    "        if not L[i]%2:\n",
    "            mysum += L.pop(i)\n",
    "        i -= 1\n",
    "    return mysum\n",
    "\n",
    "L = [2, 2, 3, 4, 5]\n",
    "mysum = Sum(L[:])\n",
    "print(L, mysum)"
   ]
  },
  {
   "cell_type": "code",
   "execution_count": 21,
   "metadata": {},
   "outputs": [
    {
     "name": "stdout",
     "output_type": "stream",
     "text": [
      "[2, 2, 3, 4, 5] 8\n"
     ]
    }
   ],
   "source": [
    "#修改方法2\n",
    "def Sum(L0):\n",
    "    L = L0[:]\n",
    "    mysum = 0\n",
    "    i = len(L) - 1\n",
    "    while i >= 0:\n",
    "        if not L[i]%2:\n",
    "            mysum += L.pop(i)\n",
    "        i -= 1\n",
    "    return mysum\n",
    "\n",
    "L = [2, 2, 3, 4, 5]\n",
    "mysum = Sum(L)\n",
    "print(L, mysum)"
   ]
  },
  {
   "cell_type": "code",
   "execution_count": 22,
   "metadata": {},
   "outputs": [
    {
     "name": "stdout",
     "output_type": "stream",
     "text": [
      "[2, 2, 3, 4, 5] 8\n"
     ]
    }
   ],
   "source": [
    "#修改方法3\n",
    "def Sum(L):\n",
    "    r = 0\n",
    "    for i in L:\n",
    "        if not i & 1:\n",
    "            r += i\n",
    "    return r\n",
    "\n",
    "L = [2, 2, 3, 4, 5]\n",
    "mysum = Sum(L)\n",
    "print(L, mysum)"
   ]
  },
  {
   "cell_type": "markdown",
   "metadata": {},
   "source": [
    "五、默认参数练习。请分析 <程序：默认参数练习> 中的代码，说明每一次的打印结果是什么？当前的默认参数是什么？\n",
    "（10分）\n",
    "``` python\n",
    "def append_l(L=[1,2]):\n",
    "    if L[0]%2:\n",
    "        L.append(0)\n",
    "    else:\n",
    "        L.append(5)\n",
    "    return L\n",
    "\n",
    "print(append_l())\n",
    "print(append_l([2]))\n",
    "print(append_l([3]))\n",
    "print(append_l())\n",
    "```"
   ]
  },
  {
   "cell_type": "markdown",
   "metadata": {},
   "source": [
    "默认值变量被改变，下次使用默认值变量时其值为改变后的值\n",
    "因为默认值L=[1,2]，故第一次执行函数时程序进入L.append(0)，默认值变为[1,2,0],函数返回[1,2,0]，print语句输出[1, 2, 0]\n",
    "第二次执行时未使用默认值，默认参数仍为[1,2,0]，程序进入L.append(5)，参数列表[2]变为[2,5],函数返回[2,5],print语句输出[2, 5]\n",
    "第三次执行时也未使用默认值，默认参数仍为[1,2,0]，程序进入L.append(0)，参数列表[3]变为[3,0],函数返回[3,0],print语句输出[3, 0]\n",
    "第四次执行时使用默认值，由于第一次执行时默认值的改变，此时默认值为[1,2,0]，程序进入L.append(0),默认值变为[1,2,0,0],函数返回[1,2,0,0]，print语句输出[1, 2, 0, 0]\n",
    "综上所述，程序输出为：\n",
    "[1, 2, 0]\n",
    "[2, 5]\n",
    "[3, 0]\n",
    "[1, 2, 0, 0]"
   ]
  },
  {
   "cell_type": "markdown",
   "metadata": {},
   "source": [
    "六、用列表推演达式生成九九乘法表，每个元素都是一计算式子。 使得输出的列表为： \n",
    "``` python\n",
    "L= ['1*1=1', '1*2=2', '1*3=3', '1*4=4', '1*5=5', '1*6=6', '1*7=7', '1*8=8', '1*9=9', '2*2=4', '2*3=6', '2*4=8', '2*5=10', '2*6=12', '2*7=14', '2*8=16', '2*9=18', '3*3=9', '3*4=12', '3*5=15', '3*6=18', '3*7=21', '3*8=24', '3*9=27', '4*4=16', '4*5=20', '4*6=24', '4*7=28', '4*8=32', '4*9=36', '5*5=25', '5*6=30', '5*7=35', '5*8=40', '5*9=45', '6*6=36', '6*7=42', '6*8=48', '6*9=54', '7*7=49', '7*8=56', '7*9=63', '8*8=64', '8*9=72', '9*9=81']\n",
    "```\n",
    "（10分）"
   ]
  },
  {
   "cell_type": "code",
   "execution_count": 3,
   "metadata": {},
   "outputs": [
    {
     "name": "stdout",
     "output_type": "stream",
     "text": [
      "['1*1=1', '1*2=2', '1*3=3', '1*4=4', '1*5=5', '1*6=6', '1*7=7', '1*8=8', '1*9=9', '2*2=4', '2*3=6', '2*4=8', '2*5=10', '2*6=12', '2*7=14', '2*8=16', '2*9=18', '3*3=9', '3*4=12', '3*5=15', '3*6=18', '3*7=21', '3*8=24', '3*9=27', '4*4=16', '4*5=20', '4*6=24', '4*7=28', '4*8=32', '4*9=36', '5*5=25', '5*6=30', '5*7=35', '5*8=40', '5*9=45', '6*6=36', '6*7=42', '6*8=48', '6*9=54', '7*7=49', '7*8=56', '7*9=63', '8*8=64', '8*9=72', '9*9=81']\n"
     ]
    }
   ],
   "source": [
    "L = [\"{}*{}={}\".format(i,j,i*j) for i in range (1,10) for j in range (i,10)]\n",
    "print(L)"
   ]
  },
  {
   "cell_type": "markdown",
   "metadata": {},
   "source": [
    "七、用法列表推演达式完成如下功能：给定一个字符串text，里面存放的是一小段文本。请利用列表推演表达式获取文本中所有单词的第1个字符。（10分）\n",
    "``` python\n",
    "text=\"My house is full of flowers\"\n",
    "```"
   ]
  },
  {
   "cell_type": "code",
   "execution_count": 5,
   "metadata": {},
   "outputs": [
    {
     "name": "stdout",
     "output_type": "stream",
     "text": [
      "['M', 'h', 'i', 'f', 'o', 'f']\n"
     ]
    }
   ],
   "source": [
    "text = \"My house is full of flowers\"\n",
    "L = [s[0] for s in text.split(\" \")]\n",
    "print(L)"
   ]
  },
  {
   "cell_type": "markdown",
   "metadata": {},
   "source": [
    "八、文件操作练习。请生成九九乘法表，按照表的形式输出到文件中，格式如下：\n",
    "```python\n",
    "1*1=1\n",
    "1*2=2\t2*2=4\n",
    "1*3=3\t2*3=6\t3*3=9\n",
    "1*4=4\t2*4=8\t3*4=12\t4*4=16\n",
    "...\n",
    "```\n",
    "（15分）"
   ]
  },
  {
   "cell_type": "code",
   "execution_count": 17,
   "metadata": {
    "collapsed": true
   },
   "outputs": [],
   "source": [
    "with open(\"file.txt\",\"w\") as f:\n",
    "    for i in range(1,10):\n",
    "        for j in range(1,i+1):\n",
    "            f.write(\"%d*%d=%d\\t\" % (j,i,i * j))\n",
    "        f.write('\\n')"
   ]
  },
  {
   "cell_type": "markdown",
   "metadata": {},
   "source": [
    "九、从文件中以字典的形式读取数据，名字作为key，年龄作为value。文件中的内容如下，以制表符('\\t')分割数据。\n",
    "``` python\n",
    "name\tage\n",
    "Aaron\t34\n",
    "Abraham\t23\n",
    "Andy\t56\n",
    "Benson\t41\n",
    "\n",
    "```\n",
    "然后输出到另一个文件中，并添加行号。格式如下，依旧以制表符分割数据。\n",
    "``` python\n",
    "1\tAaron\t34\n",
    "2\tAbraham\t23\n",
    "3\tAndy\t56\n",
    "4\tBenson\t41\n",
    "\n",
    "```\n",
    "（10分）"
   ]
  },
  {
   "cell_type": "code",
   "execution_count": 14,
   "metadata": {},
   "outputs": [],
   "source": [
    "with open('file1.txt','r') as f:\n",
    "    lines = f.readlines()\n",
    "d = {}\n",
    "for line in lines[1:]:\n",
    "    p = line.split('    ')\n",
    "    d[p[0]] = p[1][:len(p[1])-1]\n",
    "with open('file2.txt','w') as f:\n",
    "    i = 1\n",
    "    for item in d.items():\n",
    "        f.write(str(i) + '\\t' + item[0] + '\\t' + item[1] + '\\n')\n",
    "        i += 1"
   ]
  }
 ],
 "metadata": {
  "kernelspec": {
   "display_name": "Python 3",
   "language": "python",
   "name": "python3"
  },
  "language_info": {
   "codemirror_mode": {
    "name": "ipython",
    "version": 3
   },
   "file_extension": ".py",
   "mimetype": "text/x-python",
   "name": "python",
   "nbconvert_exporter": "python",
   "pygments_lexer": "ipython3",
   "version": "3.6.1"
  }
 },
 "nbformat": 4,
 "nbformat_minor": 2
}
