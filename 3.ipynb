{
 "cells": [
  {
   "cell_type": "markdown",
   "metadata": {},
   "source": [
    "### 华东师范大学计算机科学技术系作业\n",
    "\n",
    " | 华东师范大学计算机科学技术系作业 | |\n",
    ":- | :- | :- \n",
    " 课程名称：编程导论Python | 年级：2018级| 作业成绩：\n",
    " 指导教师：兰曼 | 姓名：黎明  |  提交作业日期：2018年10月24日  \n",
    " 专业：计算机系 | 学号：10185102123  |  作业编号： 3\n",
    " -----------------------------"
   ]
  },
  {
   "cell_type": "markdown",
   "metadata": {},
   "source": [
    "一、 请用自定义函数编程实现 f(n),函数功能为：求 n 的阶乘。 利用函数 f(n), 编程实现对任意给定的3个整数 $x \\le y \\le z $, $ ( 1 < x \\le y \\le y \\le z < 100)$， 求$x!+y!+z!$。（20分）"
   ]
  },
  {
   "cell_type": "code",
   "execution_count": 1,
   "metadata": {},
   "outputs": [
    {
     "name": "stdout",
     "output_type": "stream",
     "text": [
      "1\n",
      "3\n",
      "5\n",
      "127\n"
     ]
    }
   ],
   "source": [
    "x = int(input())\n",
    "y = int(input())\n",
    "z = int(input())\n",
    "\n",
    "ans = 0\n",
    "f = 1\n",
    "a = [x,y,z]\n",
    "j = 0\n",
    "for i in range(1,z+1):\n",
    "    f *= i\n",
    "    if i == a[j]:\n",
    "        ans += f\n",
    "        j += 1\n",
    "print(ans)"
   ]
  },
  {
   "cell_type": "markdown",
   "metadata": {},
   "source": [
    "二、请用自定义函数编程实现factor(num,k)，函数功能为：求整数num中包含因子k的个数，如果没有该因子则返回0。例如12=2\\*2\\*3，则factors(12,2)=2，factors(12,3)=1，factors(12,4)=1，factors(12,5)=0。（20分）"
   ]
  },
  {
   "cell_type": "code",
   "execution_count": 2,
   "metadata": {},
   "outputs": [
    {
     "name": "stdout",
     "output_type": "stream",
     "text": [
      "2 1 1 0\n"
     ]
    }
   ],
   "source": [
    "def factor(num,k):\n",
    "    r = 0\n",
    "    while not num % k:\n",
    "        r += 1\n",
    "        num //= k\n",
    "    return r\n",
    "\n",
    "print(\"%d %d %d %d\" % (factor(12,2),factor(12,3),factor(12,4),factor(12,5)))"
   ]
  },
  {
   "cell_type": "markdown",
   "metadata": {},
   "source": [
    "三、请用自定义函数编程实现pai(e)，函数功能为：根据以下公式求$\\pi$的值，直到某一项的值小于给定的精度e。\n",
    "    $$\\cfrac{\\pi}{2}=1+\\cfrac{1}{3}+\\cfrac{1}{3}*\\cfrac{2}{5}+\\cfrac{1}{3}*\\cfrac{2}{5}*\\cfrac{3}{7}+\\cfrac{1}{3}*\\cfrac{2}{5}*\\cfrac{3}{7}*\\cfrac{4}{9}+\\ldots\\ldots  $$\n",
    "   输入：精度e，例如0.0005                                         \n",
    "   输出：$\\pi$的值，上例为3.14058\n",
    "（20分）"
   ]
  },
  {
   "cell_type": "code",
   "execution_count": 11,
   "metadata": {},
   "outputs": [
    {
     "name": "stdout",
     "output_type": "stream",
     "text": [
      "0.0000000000000000000001\n",
      "3.14159265358979220000000\n"
     ]
    }
   ],
   "source": [
    "import math\n",
    "\n",
    "def pai(e):\n",
    "    p = 2.0\n",
    "    i = 1\n",
    "    r = 2.0\n",
    "    while r >= e:\n",
    "        r *= i / (2 * i + 1.0)\n",
    "        p += r\n",
    "        i += 1\n",
    "    return p\n",
    "\n",
    "s = input()\n",
    "e = float(s)\n",
    "d = 0\n",
    "if s.find(\".\") != -1:\n",
    "    d = len(s.split(\".\")[1])\n",
    "ans = round(pai(e),d+1) #保留到精度的下一位\n",
    "sans = str(ans)\n",
    "l = len(sans)\n",
    "if l - 2 <= d: #位数不足则补0\n",
    "    print(ans,end = '')\n",
    "    print(\"\".join(['0' for i in range(d - l + 3)]))\n",
    "else:\n",
    "    print(sans)\n",
    "#输入0.0005的时候输出和样例不一样 但是精度要求已经满足了 助教兄弟不要算我错呀 "
   ]
  },
  {
   "cell_type": "markdown",
   "metadata": {},
   "source": [
    "四、请用自定义函数编程实现fun(a,b)，函数功能为：将两个三位数的整数a，b合并成一个整数c，合并规则为c的十万位、千位和十位分别是a的百位、十位和个位，而c的万位、百位和个位分别是b的百位、十位和个位。例如：输入为 a=123，b=456，则输出为 c=142536（20分）"
   ]
  },
  {
   "cell_type": "code",
   "execution_count": 4,
   "metadata": {},
   "outputs": [
    {
     "name": "stdout",
     "output_type": "stream",
     "text": [
      "142536\n"
     ]
    }
   ],
   "source": [
    "def f(x):\n",
    "    l = []\n",
    "    while x:\n",
    "        l.append(x % 10)\n",
    "        x //= 10\n",
    "    return l\n",
    "\n",
    "def fun(a,b):\n",
    "    la = f(a)\n",
    "    lb = f(b)\n",
    "    return la[0] * 10 + la[1] * 1000 + la[2] * 100000 + lb[0] + lb[1] * 100 + lb[2] * 10000\n",
    "\n",
    "print(fun(123,456))"
   ]
  },
  {
   "cell_type": "markdown",
   "metadata": {},
   "source": [
    "五、请以多项式$4x^{20}+3x^{10}+5$和多项式$2x^8+x-1$为例，使用本章中子列表形式的数据结构（第三种），编写多项式乘法和除法的Python程序。（20分）"
   ]
  },
  {
   "cell_type": "code",
   "execution_count": 1,
   "metadata": {},
   "outputs": [
    {
     "name": "stdout",
     "output_type": "stream",
     "text": [
      "8x^28+4x^21-4x^20+6x^18+3x^11-3x^10+10x^8+5x-5\n",
      "2.0x^12-x^5+x^4+1.5x^2   x^6-2.0x^5+x^4-1.5x^3+1.5x^2+5\n"
     ]
    }
   ],
   "source": [
    "import copy\n",
    "\n",
    "key = lambda x:x[0]\n",
    "\n",
    "def first(p):\n",
    "    if p == []:\n",
    "        return [0,0]\n",
    "    return max(p,key = key)\n",
    "\n",
    "def clear(a):\n",
    "    r = []\n",
    "    for i in range(len(a)):\n",
    "        if a[i]:\n",
    "            r.append([i,a[i]])\n",
    "    return r\n",
    "\n",
    "def mul(p1,p2):\n",
    "    t = first(p1)[0] + first(p2)[0]\n",
    "    a = [0 for i in range(t+1)]\n",
    "    for t1 in p1:\n",
    "        for t2 in p2:\n",
    "            a[t1[0] + t2[0]] += t1[1] * t2[1]\n",
    "    return clear(a)\n",
    "\n",
    "def add(p1,p2):\n",
    "    t = first(p1)[0] + first(p2)[0]\n",
    "    a = [0 for i in range(t+1)]\n",
    "    for t in p1:\n",
    "        a[t[0]] += t[1]\n",
    "    for t in p2:\n",
    "        a[t[0]] += t[1]\n",
    "    return clear(a)\n",
    "    \n",
    "def sub(p1,p2):\n",
    "    return add(p1,[[t[0],-t[1]] for t in p2])\n",
    "\n",
    "def div(p1,p2):\n",
    "    f1 = first(p1)\n",
    "    f2 = first(p2)\n",
    "    if f1[0] < f2[0]:\n",
    "        return [],p1\n",
    "    q = [[f1[0]-f2[0],f1[1]/f2[1]]]\n",
    "    q0,p = div(sub(p1,mul(q,p2)),p2)\n",
    "    return add(q,q0),p\n",
    "\n",
    "def toString(p0):\n",
    "    p = copy.deepcopy(p0) #从功能上讲 toString函数不应对原列表进行改动\n",
    "    p.sort(key = key,reverse = True)\n",
    "    l = []\n",
    "    for i in range(len(p)):\n",
    "        if i > 0 and p[i][1] > 0:\n",
    "            l.append(\"+\")\n",
    "        if p[i][1] == -1:\n",
    "            if p[i][0] == 0:\n",
    "                l.append(\"-1\")\n",
    "            else:\n",
    "                l.append(\"-\")\n",
    "        elif p[i][1] == 1:\n",
    "            if p[i][0] == 0:\n",
    "                l.append(\"1\")\n",
    "        else:\n",
    "            l.append(str(p[i][1]))\n",
    "        if p[i][0] == 1:\n",
    "            l.append(\"x\")\n",
    "        elif p[i][0] != 0:\n",
    "            l.append(\"x^%d\" % (p[i][0]))\n",
    "    return \"\".join(l)\n",
    "\n",
    "p1 = [[20,4],[10,3],[0,5]]\n",
    "p2 = [[8,2],[1,1],[0,-1]]\n",
    "print(toString(mul(p1,p2)))\n",
    "print(toString(div(p1,p2)[0]),\" \",toString(div(p1,p2)[1]))"
   ]
  }
 ],
 "metadata": {
  "kernelspec": {
   "display_name": "Python 3",
   "language": "python",
   "name": "python3"
  },
  "language_info": {
   "codemirror_mode": {
    "name": "ipython",
    "version": 3
   },
   "file_extension": ".py",
   "mimetype": "text/x-python",
   "name": "python",
   "nbconvert_exporter": "python",
   "pygments_lexer": "ipython3",
   "version": "3.6.5"
  }
 },
 "nbformat": 4,
 "nbformat_minor": 2
}
